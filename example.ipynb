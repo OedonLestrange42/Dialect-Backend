{
 "cells": [
  {
   "cell_type": "markdown",
   "metadata": {},
   "source": [
    "# 调用自定义语音识别API样例\n",
    "\n",
    "本Notebook提供了两种方式来调用您本地部署的语音识别API：\n",
    "1.  **HTTP请求 (`curl`)**: 直接在Notebook中执行shell命令。\n",
    "2.  **Python请求 (`requests`)**: 使用Python的`requests`库来调用API。\n",
    "\n",
    "---"
   ],
   "id": "43d2cfa4006f2c9b"
  },
  {
   "cell_type": "markdown",
   "metadata": {},
   "source": [
    "## 准备工作\n",
    "\n",
    "在运行下面的代码之前，请确保：\n",
    "1.  您的语音识别API服务正在 `http://localhost:8000` 上运行。\n",
    "2.  您已经替换了代码中的 `your-secret-api-key` 为您的真实API密钥。\n",
    "3.  我们将在本地创建一个临时的WAV文件用于测试。"
   ],
   "id": "5d36c8d5d1eac78a"
  },
  {
   "cell_type": "code",
   "metadata": {
    "ExecuteTime": {
     "end_time": "2025-08-07T02:28:39.202930Z",
     "start_time": "2025-08-07T02:28:39.192537Z"
    }
   },
   "source": [
    "import os\n",
    "\n",
    "# 注意：这是一个空的wav文件，仅用于演示API调用。实际使用时，请替换为真实的音频文件。\n",
    "file_path = 'test_audio.wav'\n",
    "with open(file_path, 'w') as f:\n",
    "    f.write('RIFF....WAVEfmt ....') # 一个虚拟的wav文件头\n",
    "\n",
    "print(f\"创建了一个虚拟的测试文件：{os.path.abspath(file_path)}\")"
   ],
   "id": "b75c85912360950c",
   "outputs": [
    {
     "name": "stdout",
     "output_type": "stream",
     "text": [
      "创建了一个虚拟的测试文件：D:\\PycharmProjects\\Dialect-Backend\\test_audio.wav\n"
     ]
    }
   ],
   "execution_count": 1
  },
  {
   "cell_type": "markdown",
   "metadata": {},
   "source": [
    "---"
   ],
   "id": "209ad68f2acf5ba0"
  },
  {
   "cell_type": "markdown",
   "metadata": {},
   "source": [
    "## 1. HTTP请求 (`curl`)\n",
    "\n",
    "(无法在notebook中直接运行，但可以在终端或命令行中执行)"
   ],
   "id": "b24bd8a975cd3e71"
  },
  {
   "cell_type": "code",
   "metadata": {
    "ExecuteTime": {
     "end_time": "2025-08-07T02:28:56.123417Z",
     "start_time": "2025-08-07T02:28:56.082162Z"
    }
   },
   "source": [
    "%%bash\n",
    "# 注意：请将 path/to/your/test_audio.wav 替换为上面创建的文件的绝对路径\n",
    "# 或者，如果您在与此Notebook相同的目录中运行，可以直接使用 test_audio.wav\n",
    "FILE_PATH=\"test_audio.wav\"\n",
    "\n",
    "curl -X POST \"http://localhost:8000/v1/audio/transcriptions\" \\\n",
    "     -H \"Authorization: Bearer your-secret-api-key\" \\\n",
    "     -H \"Content-Type: multipart/form-data\" \\\n",
    "     -F \"file=@$FILE_PATH\" \\\n",
    "     -F \"model=paraformer-zh\" \\\n",
    "     -F \"response_format=verbose_json\" \\\n",
    "     -F \"prompt=阿里巴巴,通义千问\""
   ],
   "id": "9a2cd1638a81ecdc",
   "outputs": [
    {
     "name": "stdout",
     "output_type": "stream",
     "text": [
      "Couldn't find program: 'bash'\n"
     ]
    }
   ],
   "execution_count": 2
  },
  {
   "cell_type": "markdown",
   "metadata": {},
   "source": [
    "---"
   ],
   "id": "9910f0e36be3237e"
  },
  {
   "cell_type": "markdown",
   "metadata": {},
   "source": [
    "## 2. Python请求 (`requests`)\n",
    "\n",
    "这是在Python应用程序中与API交互的推荐方法。我们需要使用`requests`库，它简化了HTTP请求的处理。 [2]\n",
    "\n",
    "如果您的环境中没有安装`requests`库，请先运行 `pip install requests`。"
   ],
   "id": "f556e50ac1d7edbe"
  },
  {
   "cell_type": "code",
   "metadata": {
    "ExecuteTime": {
     "end_time": "2025-08-07T02:29:40.964819Z",
     "start_time": "2025-08-07T02:29:36.691699Z"
    }
   },
   "source": [
    "import requests\n",
    "import json\n",
    "\n",
    "# API的URL\n",
    "url = \"http://localhost:8000/v1/audio/transcriptions\"\n",
    "\n",
    "# 替换为您的API密钥\n",
    "api_key = \"your-secret-api-key\"\n",
    "\n",
    "# 设置请求头\n",
    "headers = {\n",
    "    \"Authorization\": f\"Bearer {api_key}\"\n",
    "}\n",
    "\n",
    "# 准备要发送的表单数据\n",
    "data = {\n",
    "    'model': 'paraformer-zh',\n",
    "    'response_format': 'verbose_json',\n",
    "    'prompt': '阿里巴巴,通义千问'\n",
    "}\n",
    "\n",
    "# 准备要上传的文件\n",
    "# 'rb'表示以二进制只读模式打开文件 [5]\n",
    "file_path = 'test_audio.wav'\n",
    "try:\n",
    "    with open(file_path, 'rb') as f:\n",
    "        files = {\n",
    "            'file': (os.path.basename(file_path), f, 'audio/wav')\n",
    "        }\n",
    "\n",
    "        # 发送POST请求\n",
    "        # requests库会自动处理 multipart/form-data 的编码 [3, 5]\n",
    "        response = requests.post(url, headers=headers, data=data, files=files)\n",
    "\n",
    "        # 检查响应状态码\n",
    "        response.raise_for_status()  # 如果状态码不是2xx，将引发HTTPError\n",
    "\n",
    "        # 以JSON格式打印响应内容\n",
    "        print(json.dumps(response.json(), indent=2, ensure_ascii=False))\n",
    "\n",
    "except FileNotFoundError:\n",
    "    print(f\"错误：找不到文件 '{file_path}'\")\n",
    "except requests.exceptions.RequestException as e:\n",
    "    print(f\"请求失败：{e}\")\n",
    "finally:\n",
    "    # 清理创建的虚拟文件\n",
    "    if os.path.exists(file_path):\n",
    "        os.remove(file_path)\n",
    "        print(f\"\\n已删除测试文件：{file_path}\")"
   ],
   "id": "fd3e437b1b29f8b9",
   "outputs": [
    {
     "name": "stdout",
     "output_type": "stream",
     "text": [
      "请求失败：HTTPConnectionPool(host='localhost', port=8000): Max retries exceeded with url: /v1/audio/transcriptions (Caused by NewConnectionError('<urllib3.connection.HTTPConnection object at 0x000001CDE891E040>: Failed to establish a new connection: [WinError 10061] 由于目标计算机积极拒绝，无法连接。'))\n",
      "\n",
      "已删除测试文件：test_audio.wav\n"
     ]
    }
   ],
   "execution_count": 3
  }
 ],
 "metadata": {
  "kernelspec": {
   "display_name": "Python 3",
   "language": "python",
   "name": "python3"
  },
  "language_info": {
   "codemirror_mode": {
    "name": "ipython",
    "version": 3
   },
   "file_extension": ".py",
   "mimetype": "text/x-python",
   "name": "python",
   "nbconvert_exporter": "python",
   "pygments_lexer": "ipython3",
   "version": "3.9.7"
  }
 },
 "nbformat": 4,
 "nbformat_minor": 4
}
